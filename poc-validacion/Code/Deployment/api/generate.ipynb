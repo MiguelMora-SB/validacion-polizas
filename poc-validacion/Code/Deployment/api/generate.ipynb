{
 "cells": [
  {
   "cell_type": "markdown",
   "metadata": {},
   "source": [
    "## Generación de archivos de despliegue"
   ]
  },
  {
   "cell_type": "markdown",
   "metadata": {},
   "source": []
  },
  {
   "cell_type": "code",
   "execution_count": 7,
   "metadata": {},
   "outputs": [],
   "source": [
    "# Librerías necesarias\n",
    "import pandas as pd\n",
    "import matplotlib.pyplot as plt\n",
    "import seaborn as sns\n",
    "from pycaret.classification import *"
   ]
  },
  {
   "cell_type": "code",
   "execution_count": 9,
   "metadata": {},
   "outputs": [],
   "source": [
    "# Cargar datasets\n",
    "url_train = 'https://raw.githubusercontent.com/MiguelMora-SB/validacion-polizas/main/poc-validacion/Data/Raw/polizas_train_data.csv'\n",
    "data_train = pd.read_csv(url_train, index_col=0, sep=';', encoding='utf-8-sig')\n",
    "\n",
    "# Cargar dataset de prueba\n",
    "url_test = 'https://raw.githubusercontent.com/MiguelMora-SB/validacion-polizas/main/poc-validacion/Data/Raw/polizas_test_data.csv'\n",
    "data_test = pd.read_csv(url_test, index_col=0, sep=';', encoding='utf-8-sig')\n",
    "\n"
   ]
  },
  {
   "cell_type": "code",
   "execution_count": 11,
   "metadata": {},
   "outputs": [
    {
     "name": "stdout",
     "output_type": "stream",
     "text": [
      "\n",
      "Configurando PyCaret con el dataset de entrenamiento...\n"
     ]
    },
    {
     "data": {
      "text/html": [
       "<style type=\"text/css\">\n",
       "#T_002bf_row10_col1 {\n",
       "  background-color: lightgreen;\n",
       "}\n",
       "</style>\n",
       "<table id=\"T_002bf\">\n",
       "  <thead>\n",
       "    <tr>\n",
       "      <th class=\"blank level0\" >&nbsp;</th>\n",
       "      <th id=\"T_002bf_level0_col0\" class=\"col_heading level0 col0\" >Description</th>\n",
       "      <th id=\"T_002bf_level0_col1\" class=\"col_heading level0 col1\" >Value</th>\n",
       "    </tr>\n",
       "  </thead>\n",
       "  <tbody>\n",
       "    <tr>\n",
       "      <th id=\"T_002bf_level0_row0\" class=\"row_heading level0 row0\" >0</th>\n",
       "      <td id=\"T_002bf_row0_col0\" class=\"data row0 col0\" >Session id</td>\n",
       "      <td id=\"T_002bf_row0_col1\" class=\"data row0 col1\" >123</td>\n",
       "    </tr>\n",
       "    <tr>\n",
       "      <th id=\"T_002bf_level0_row1\" class=\"row_heading level0 row1\" >1</th>\n",
       "      <td id=\"T_002bf_row1_col0\" class=\"data row1 col0\" >Target</td>\n",
       "      <td id=\"T_002bf_row1_col1\" class=\"data row1 col1\" >Anomalia</td>\n",
       "    </tr>\n",
       "    <tr>\n",
       "      <th id=\"T_002bf_level0_row2\" class=\"row_heading level0 row2\" >2</th>\n",
       "      <td id=\"T_002bf_row2_col0\" class=\"data row2 col0\" >Target type</td>\n",
       "      <td id=\"T_002bf_row2_col1\" class=\"data row2 col1\" >Binary</td>\n",
       "    </tr>\n",
       "    <tr>\n",
       "      <th id=\"T_002bf_level0_row3\" class=\"row_heading level0 row3\" >3</th>\n",
       "      <td id=\"T_002bf_row3_col0\" class=\"data row3 col0\" >Original data shape</td>\n",
       "      <td id=\"T_002bf_row3_col1\" class=\"data row3 col1\" >(116512, 20)</td>\n",
       "    </tr>\n",
       "    <tr>\n",
       "      <th id=\"T_002bf_level0_row4\" class=\"row_heading level0 row4\" >4</th>\n",
       "      <td id=\"T_002bf_row4_col0\" class=\"data row4 col0\" >Transformed data shape</td>\n",
       "      <td id=\"T_002bf_row4_col1\" class=\"data row4 col1\" >(116512, 33)</td>\n",
       "    </tr>\n",
       "    <tr>\n",
       "      <th id=\"T_002bf_level0_row5\" class=\"row_heading level0 row5\" >5</th>\n",
       "      <td id=\"T_002bf_row5_col0\" class=\"data row5 col0\" >Transformed train set shape</td>\n",
       "      <td id=\"T_002bf_row5_col1\" class=\"data row5 col1\" >(81558, 33)</td>\n",
       "    </tr>\n",
       "    <tr>\n",
       "      <th id=\"T_002bf_level0_row6\" class=\"row_heading level0 row6\" >6</th>\n",
       "      <td id=\"T_002bf_row6_col0\" class=\"data row6 col0\" >Transformed test set shape</td>\n",
       "      <td id=\"T_002bf_row6_col1\" class=\"data row6 col1\" >(34954, 33)</td>\n",
       "    </tr>\n",
       "    <tr>\n",
       "      <th id=\"T_002bf_level0_row7\" class=\"row_heading level0 row7\" >7</th>\n",
       "      <td id=\"T_002bf_row7_col0\" class=\"data row7 col0\" >Numeric features</td>\n",
       "      <td id=\"T_002bf_row7_col1\" class=\"data row7 col1\" >10</td>\n",
       "    </tr>\n",
       "    <tr>\n",
       "      <th id=\"T_002bf_level0_row8\" class=\"row_heading level0 row8\" >8</th>\n",
       "      <td id=\"T_002bf_row8_col0\" class=\"data row8 col0\" >Categorical features</td>\n",
       "      <td id=\"T_002bf_row8_col1\" class=\"data row8 col1\" >9</td>\n",
       "    </tr>\n",
       "    <tr>\n",
       "      <th id=\"T_002bf_level0_row9\" class=\"row_heading level0 row9\" >9</th>\n",
       "      <td id=\"T_002bf_row9_col0\" class=\"data row9 col0\" >Rows with missing values</td>\n",
       "      <td id=\"T_002bf_row9_col1\" class=\"data row9 col1\" >2.1%</td>\n",
       "    </tr>\n",
       "    <tr>\n",
       "      <th id=\"T_002bf_level0_row10\" class=\"row_heading level0 row10\" >10</th>\n",
       "      <td id=\"T_002bf_row10_col0\" class=\"data row10 col0\" >Preprocess</td>\n",
       "      <td id=\"T_002bf_row10_col1\" class=\"data row10 col1\" >True</td>\n",
       "    </tr>\n",
       "    <tr>\n",
       "      <th id=\"T_002bf_level0_row11\" class=\"row_heading level0 row11\" >11</th>\n",
       "      <td id=\"T_002bf_row11_col0\" class=\"data row11 col0\" >Imputation type</td>\n",
       "      <td id=\"T_002bf_row11_col1\" class=\"data row11 col1\" >simple</td>\n",
       "    </tr>\n",
       "    <tr>\n",
       "      <th id=\"T_002bf_level0_row12\" class=\"row_heading level0 row12\" >12</th>\n",
       "      <td id=\"T_002bf_row12_col0\" class=\"data row12 col0\" >Numeric imputation</td>\n",
       "      <td id=\"T_002bf_row12_col1\" class=\"data row12 col1\" >mean</td>\n",
       "    </tr>\n",
       "    <tr>\n",
       "      <th id=\"T_002bf_level0_row13\" class=\"row_heading level0 row13\" >13</th>\n",
       "      <td id=\"T_002bf_row13_col0\" class=\"data row13 col0\" >Categorical imputation</td>\n",
       "      <td id=\"T_002bf_row13_col1\" class=\"data row13 col1\" >mode</td>\n",
       "    </tr>\n",
       "    <tr>\n",
       "      <th id=\"T_002bf_level0_row14\" class=\"row_heading level0 row14\" >14</th>\n",
       "      <td id=\"T_002bf_row14_col0\" class=\"data row14 col0\" >Maximum one-hot encoding</td>\n",
       "      <td id=\"T_002bf_row14_col1\" class=\"data row14 col1\" >25</td>\n",
       "    </tr>\n",
       "    <tr>\n",
       "      <th id=\"T_002bf_level0_row15\" class=\"row_heading level0 row15\" >15</th>\n",
       "      <td id=\"T_002bf_row15_col0\" class=\"data row15 col0\" >Encoding method</td>\n",
       "      <td id=\"T_002bf_row15_col1\" class=\"data row15 col1\" >None</td>\n",
       "    </tr>\n",
       "    <tr>\n",
       "      <th id=\"T_002bf_level0_row16\" class=\"row_heading level0 row16\" >16</th>\n",
       "      <td id=\"T_002bf_row16_col0\" class=\"data row16 col0\" >Fold Generator</td>\n",
       "      <td id=\"T_002bf_row16_col1\" class=\"data row16 col1\" >StratifiedKFold</td>\n",
       "    </tr>\n",
       "    <tr>\n",
       "      <th id=\"T_002bf_level0_row17\" class=\"row_heading level0 row17\" >17</th>\n",
       "      <td id=\"T_002bf_row17_col0\" class=\"data row17 col0\" >Fold Number</td>\n",
       "      <td id=\"T_002bf_row17_col1\" class=\"data row17 col1\" >10</td>\n",
       "    </tr>\n",
       "    <tr>\n",
       "      <th id=\"T_002bf_level0_row18\" class=\"row_heading level0 row18\" >18</th>\n",
       "      <td id=\"T_002bf_row18_col0\" class=\"data row18 col0\" >CPU Jobs</td>\n",
       "      <td id=\"T_002bf_row18_col1\" class=\"data row18 col1\" >-1</td>\n",
       "    </tr>\n",
       "    <tr>\n",
       "      <th id=\"T_002bf_level0_row19\" class=\"row_heading level0 row19\" >19</th>\n",
       "      <td id=\"T_002bf_row19_col0\" class=\"data row19 col0\" >Use GPU</td>\n",
       "      <td id=\"T_002bf_row19_col1\" class=\"data row19 col1\" >False</td>\n",
       "    </tr>\n",
       "    <tr>\n",
       "      <th id=\"T_002bf_level0_row20\" class=\"row_heading level0 row20\" >20</th>\n",
       "      <td id=\"T_002bf_row20_col0\" class=\"data row20 col0\" >Log Experiment</td>\n",
       "      <td id=\"T_002bf_row20_col1\" class=\"data row20 col1\" >False</td>\n",
       "    </tr>\n",
       "    <tr>\n",
       "      <th id=\"T_002bf_level0_row21\" class=\"row_heading level0 row21\" >21</th>\n",
       "      <td id=\"T_002bf_row21_col0\" class=\"data row21 col0\" >Experiment Name</td>\n",
       "      <td id=\"T_002bf_row21_col1\" class=\"data row21 col1\" >clf-default-name</td>\n",
       "    </tr>\n",
       "    <tr>\n",
       "      <th id=\"T_002bf_level0_row22\" class=\"row_heading level0 row22\" >22</th>\n",
       "      <td id=\"T_002bf_row22_col0\" class=\"data row22 col0\" >USI</td>\n",
       "      <td id=\"T_002bf_row22_col1\" class=\"data row22 col1\" >8feb</td>\n",
       "    </tr>\n",
       "  </tbody>\n",
       "</table>\n"
      ],
      "text/plain": [
       "<pandas.io.formats.style.Styler at 0x7f6bd03d76a0>"
      ]
     },
     "metadata": {},
     "output_type": "display_data"
    },
    {
     "name": "stderr",
     "output_type": "stream",
     "text": [
      "/home/miguel/proyectos-ia/bolivar/.venv/lib/python3.10/site-packages/pycaret/internal/pipeline.py:148: UserWarning: Version mismatch:\n",
      "current: {'deps_info': {'pip': '24.3.1', 'setuptools': '59.6.0', 'pycaret': '3.3.2', 'IPython': '8.31.0', 'ipywidgets': '8.1.5', 'tqdm': '4.67.1', 'numpy': '1.26.4', 'pandas': '2.1.4', 'jinja2': '3.1.5', 'scipy': '1.11.4', 'joblib': '1.3.2', 'sklearn': '1.4.2', 'pyod': '2.0.3', 'imblearn': '0.13.0', 'category_encoders': '2.6.4', 'lightgbm': '4.5.0', 'numba': '0.60.0', 'requests': '2.32.3', 'matplotlib': '3.7.5', 'scikitplot': '0.3.7', 'yellowbrick': '1.5', 'plotly': '5.24.1', 'plotly-resampler': 'Not installed', 'kaleido': '0.2.1', 'schemdraw': '0.15', 'statsmodels': '0.14.4', 'sktime': '0.26.0', 'tbats': '1.1.3', 'pmdarima': '2.0.4', 'psutil': '6.1.1', 'markupsafe': '2.1.5', 'pickle5': 'Not installed', 'cloudpickle': '3.1.0', 'deprecation': '2.1.0', 'xxhash': '3.5.0', 'wurlitzer': '3.1.1'}, 'python': {'version': '3.10.12', 'machine': 'x86_64'}}\n",
      "pickle: {'deps_info': {'pip': '24.1.2', 'setuptools': '75.1.0', 'pycaret': '3.3.2', 'IPython': '7.34.0', 'ipywidgets': '7.7.1', 'tqdm': '4.67.1', 'numpy': '1.26.4', 'pandas': '2.1.4', 'jinja2': '3.1.4', 'scipy': '1.11.4', 'joblib': '1.3.2', 'sklearn': '1.4.2', 'pyod': '2.0.3', 'imblearn': '0.12.4', 'category_encoders': '2.6.4', 'lightgbm': '4.5.0', 'numba': '0.60.0', 'requests': '2.32.3', 'matplotlib': '3.7.5', 'scikitplot': '0.3.7', 'yellowbrick': '1.5', 'plotly': '5.24.1', 'plotly-resampler': 'Not installed', 'kaleido': '0.2.1', 'schemdraw': '0.15', 'statsmodels': '0.14.4', 'sktime': '0.26.0', 'tbats': '1.1.3', 'pmdarima': '2.0.4', 'psutil': '5.9.5', 'markupsafe': '3.0.2', 'pickle5': 'Not installed', 'cloudpickle': '3.1.0', 'deprecation': '2.1.0', 'xxhash': '3.5.0', 'wurlitzer': '3.1.1'}, 'python': {'version': '3.10.12', 'machine': 'x86_64'}}\n",
      "  warnings.warn(\n"
     ]
    },
    {
     "name": "stdout",
     "output_type": "stream",
     "text": [
      "Transformation Pipeline and Model Successfully Loaded\n",
      "* Running on local URL:  http://127.0.0.1:7861\n",
      "\n",
      "To create a public link, set `share=True` in `launch()`.\n"
     ]
    },
    {
     "data": {
      "text/html": [
       "<div><iframe src=\"http://127.0.0.1:7861/\" width=\"100%\" height=\"500\" allow=\"autoplay; camera; microphone; clipboard-read; clipboard-write;\" frameborder=\"0\" allowfullscreen></iframe></div>"
      ],
      "text/plain": [
       "<IPython.core.display.HTML object>"
      ]
     },
     "metadata": {},
     "output_type": "display_data"
    },
    {
     "data": {
      "text/plain": []
     },
     "execution_count": 11,
     "metadata": {},
     "output_type": "execute_result"
    },
    {
     "name": "stdout",
     "output_type": "stream",
     "text": [
      "Created dataset file at: .gradio/flagged/dataset1.csv\n"
     ]
    },
    {
     "data": {
      "text/html": [],
      "text/plain": [
       "<IPython.core.display.HTML object>"
      ]
     },
     "metadata": {},
     "output_type": "display_data"
    },
    {
     "name": "stderr",
     "output_type": "stream",
     "text": [
      "Traceback (most recent call last):\n",
      "  File \"/home/miguel/proyectos-ia/bolivar/.venv/lib/python3.10/site-packages/gradio/queueing.py\", line 625, in process_events\n",
      "    response = await route_utils.call_process_api(\n",
      "  File \"/home/miguel/proyectos-ia/bolivar/.venv/lib/python3.10/site-packages/gradio/route_utils.py\", line 322, in call_process_api\n",
      "    output = await app.get_blocks().process_api(\n",
      "  File \"/home/miguel/proyectos-ia/bolivar/.venv/lib/python3.10/site-packages/gradio/blocks.py\", line 2047, in process_api\n",
      "    result = await self.call_function(\n",
      "  File \"/home/miguel/proyectos-ia/bolivar/.venv/lib/python3.10/site-packages/gradio/blocks.py\", line 1594, in call_function\n",
      "    prediction = await anyio.to_thread.run_sync(  # type: ignore\n",
      "  File \"/home/miguel/proyectos-ia/bolivar/.venv/lib/python3.10/site-packages/anyio/to_thread.py\", line 56, in run_sync\n",
      "    return await get_async_backend().run_sync_in_worker_thread(\n",
      "  File \"/home/miguel/proyectos-ia/bolivar/.venv/lib/python3.10/site-packages/anyio/_backends/_asyncio.py\", line 2505, in run_sync_in_worker_thread\n",
      "    return await future\n",
      "  File \"/home/miguel/proyectos-ia/bolivar/.venv/lib/python3.10/site-packages/anyio/_backends/_asyncio.py\", line 1005, in run\n",
      "    result = context.run(func, *args)\n",
      "  File \"/home/miguel/proyectos-ia/bolivar/.venv/lib/python3.10/site-packages/gradio/utils.py\", line 869, in wrapper\n",
      "    response = f(*args, **kwargs)\n",
      "  File \"/home/miguel/proyectos-ia/bolivar/.venv/lib/python3.10/site-packages/pycaret/internal/pycaret_experiment/supervised_experiment.py\", line 5461, in predict\n",
      "    self.predict_model(\n",
      "  File \"/home/miguel/proyectos-ia/bolivar/.venv/lib/python3.10/site-packages/pycaret/classification/oop.py\", line 2824, in predict_model\n",
      "    return super().predict_model(\n",
      "  File \"/home/miguel/proyectos-ia/bolivar/.venv/lib/python3.10/site-packages/pycaret/internal/pycaret_experiment/supervised_experiment.py\", line 4962, in predict_model\n",
      "    X_test_ = pipeline.transform(\n",
      "  File \"/home/miguel/proyectos-ia/bolivar/.venv/lib/python3.10/site-packages/pycaret/internal/pipeline.py\", line 289, in transform\n",
      "    X, y = self._memory_full_transform(\n",
      "  File \"/home/miguel/proyectos-ia/bolivar/.venv/lib/python3.10/site-packages/joblib/memory.py\", line 353, in __call__\n",
      "    return self.func(*args, **kwargs)\n",
      "  File \"/home/miguel/proyectos-ia/bolivar/.venv/lib/python3.10/site-packages/pycaret/internal/pipeline.py\", line 111, in _full_transform\n",
      "    X, y = pipeline._memory_transform(transformer, X, y)\n",
      "  File \"/home/miguel/proyectos-ia/bolivar/.venv/lib/python3.10/site-packages/joblib/memory.py\", line 353, in __call__\n",
      "    return self.func(*args, **kwargs)\n",
      "  File \"/home/miguel/proyectos-ia/bolivar/.venv/lib/python3.10/site-packages/pycaret/internal/pipeline.py\", line 80, in _transform_one\n",
      "    output = transformer.transform(*args)\n",
      "  File \"/home/miguel/proyectos-ia/bolivar/.venv/lib/python3.10/site-packages/sklearn/utils/_set_output.py\", line 295, in wrapped\n",
      "    data_to_wrap = f(self, X, *args, **kwargs)\n",
      "  File \"/home/miguel/proyectos-ia/bolivar/.venv/lib/python3.10/site-packages/pycaret/internal/preprocess/transformers.py\", line 255, in transform\n",
      "    output = self.transformer.transform(*args)\n",
      "  File \"/home/miguel/proyectos-ia/bolivar/.venv/lib/python3.10/site-packages/sklearn/utils/_set_output.py\", line 295, in wrapped\n",
      "    data_to_wrap = f(self, X, *args, **kwargs)\n",
      "  File \"/home/miguel/proyectos-ia/bolivar/.venv/lib/python3.10/site-packages/sklearn/impute/_base.py\", line 549, in transform\n",
      "    X = self._validate_input(X, in_fit=False)\n",
      "  File \"/home/miguel/proyectos-ia/bolivar/.venv/lib/python3.10/site-packages/sklearn/impute/_base.py\", line 337, in _validate_input\n",
      "    raise new_ve from None\n",
      "ValueError: Cannot use mean strategy with non-numeric data:\n",
      "could not convert string to float: ''\n"
     ]
    },
    {
     "data": {
      "text/html": [],
      "text/plain": [
       "<IPython.core.display.HTML object>"
      ]
     },
     "metadata": {},
     "output_type": "display_data"
    }
   ],
   "source": [
    "# load pipeline\n",
    "from pycaret.classification import *\n",
    "\n",
    "print(\"\\nConfigurando PyCaret con el dataset de entrenamiento...\")\n",
    "clf_setup = setup(data=data_train, target='Anomalia', session_id=123, index=False)\n",
    "\n",
    "lm = load_model('/home/miguel/proyectos-ia/bolivar/validacion-polizas/poc-validacion/Models/best_model_validacion_polizas')\n",
    "\n",
    "# create api\n",
    "#create_api(lm, 'validacion_polizas_api_v1')\n",
    "\n",
    "# create docker\n",
    "#create_docker('validacion_polizas_docker_v1')\n",
    "\n",
    "# create app\n",
    "#create_app(lm)"
   ]
  },
  {
   "cell_type": "code",
   "execution_count": null,
   "metadata": {},
   "outputs": [],
   "source": []
  }
 ],
 "metadata": {
  "kernelspec": {
   "display_name": ".venv",
   "language": "python",
   "name": "python3"
  },
  "language_info": {
   "codemirror_mode": {
    "name": "ipython",
    "version": 3
   },
   "file_extension": ".py",
   "mimetype": "text/x-python",
   "name": "python",
   "nbconvert_exporter": "python",
   "pygments_lexer": "ipython3",
   "version": "3.10.12"
  }
 },
 "nbformat": 4,
 "nbformat_minor": 2
}
